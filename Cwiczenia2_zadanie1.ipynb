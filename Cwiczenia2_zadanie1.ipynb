{
 "cells": [
  {
   "cell_type": "code",
   "execution_count": null,
   "metadata": {
    "id": "ZlP7WlXQcNMH"
   },
   "outputs": [],
   "source": [
    "# Data set generation\n",
    "import numpy as np\n",
    "import matplotlib.pyplot as plt\n",
    "import random\n",
    "import time\n",
    "\n",
    "from keras.models import Sequential\n",
    "from keras.layers import Dense\n",
    "from keras.optimizers import SGD, Adam, Adadelta, Adagrad, Nadam\n",
    "\n",
    "\n",
    "#Zbior losowy\n",
    "# Generate 3 dimensional dataset with 10 classes and 250 elements\n",
    "# def generate_dataset():\n",
    "#     X = []\n",
    "#     y = []\n",
    "#     for i in range(250):\n",
    "#         x1 = random.uniform(0, 10)\n",
    "#         x2 = random.uniform(0, 10)\n",
    "#         x3 = random.uniform(0, 10)\n",
    "#         X.append([x1, x2, x3])\n",
    "#         y.append(random.randint(0, 9))\n",
    "#     return np.array(X), np.array(y)\n",
    "\n",
    "#Zbior Gauss\n",
    "# def generate_dataset():\n",
    "#     X = []\n",
    "#     y = []\n",
    "#     means = [[3, 3, 3], [5, 5, 5], [7, 7, 7], [9, 9, 9], [1, 1, 1], [2, 2, 2], [4, 4, 4], [6, 6, 6], [8, 8, 8], [0, 0, 0]]\n",
    "#     covs = [[[1, 0, 0], [0, 1, 0], [0, 0, 1]], [[1, 0, 0], [0, 1, 0], [0, 0, 1]], [[1, 0, 0], [0, 1, 0], [0, 0, 1]],\n",
    "#             [[1, 0, 0], [0, 1, 0], [0, 0, 1]], [[1, 0, 0], [0, 1, 0], [0, 0, 1]], [[1, 0, 0], [0, 1, 0], [0, 0, 1]],\n",
    "#             [[1, 0, 0], [0, 1, 0], [0, 0, 1]], [[1, 0, 0], [0, 1, 0], [0, 0, 1]], [[1, 0, 0], [0, 1, 0], [0, 0, 1]],\n",
    "#             [[1, 0, 0], [0, 1, 0], [0, 0, 1]]]\n",
    "#     for i in range(10):\n",
    "#         X_class = np.random.multivariate_normal(means[i], covs[i], 25)\n",
    "#         X.extend(X_class)\n",
    "#         y.extend([i] * 25)\n",
    "#     return np.array(X), np.array(y)\n",
    "\n",
    "#Zbior 3\n",
    "# def generate_dataset():\n",
    "#     X = []\n",
    "#     y = []\n",
    "#     means = [[3, 3, 3], [5, 5, 5], [7, 7, 7], [9, 9, 9], [1, 1, 1], [2, 2, 2], [4, 4, 4], [6, 6, 6], [8, 8, 8], [0, 0, 0]]\n",
    "#     covs = [[[1, 0, 0], [0, 1, 0], [0, 0, 1]], [[1, 0, 0], [0, 1, 0], [0, 0, 1]], [[1, 0, 0], [0, 1, 0], [0, 0, 1]],\n",
    "#             [[1, 0, 0], [0, 1, 0], [0, 0, 1]], [[1, 0, 0], [0, 1, 0], [0, 0, 1]], [[1, 0, 0], [0, 1, 0], [0, 0, 1]],\n",
    "#             [[1, 0, 0], [0, 1, 0], [0, 0, 1]], [[1, 0, 0], [0, 1, 0], [0, 0, 1]], [[1, 0, 0], [0, 1, 0], [0, 0, 1]],\n",
    "#             [[1, 0, 0], [0, 1, 0], [0, 0, 1]]]\n",
    "#     for i in range(10):\n",
    "#         X_class = np.random.multivariate_normal(means[i], covs[i], 25)\n",
    "#         X.extend(X_class)\n",
    "#         y.extend([i] * 25)\n",
    "#     return np.array(X), np.array(y)\n",
    "\n",
    "#Zbior 4\n",
    "def generate_dataset():\n",
    "    X = []\n",
    "    y = []\n",
    "    for i in range(5):\n",
    "        t = np.linspace(0, 2 * np.pi, 1000) + i * np.pi / 5\n",
    "        x = np.sin(t) * t\n",
    "        y_ = np.cos(t) * t\n",
    "        X_class = np.column_stack((x, y_))\n",
    "        if i == 0:\n",
    "            X = X_class\n",
    "            y = np.array([i] * 1000)\n",
    "        else:\n",
    "            X = np.concatenate((X, X_class), axis=0)\n",
    "            y = np.concatenate((y, np.array([i] * 1000)), axis=0)\n",
    "    return X, y\n",
    "\n",
    "def plot_dataset(X, y):\n",
    "    fig = plt.figure(figsize=(10, 10))\n",
    "    ax = fig.add_subplot(111, projection='3d')\n",
    "    for i in range(5):\n",
    "        X_class = X[y == i]\n",
    "        ax.scatter(X_class[:, 0], X_class[:, 1], label='Class {}'.format(i))\n",
    "    ax.legend()\n",
    "    plt.show()"
   ]
  },
  {
   "cell_type": "code",
   "execution_count": null,
   "metadata": {
    "id": "CndJW0GBcZ4o"
   },
   "outputs": [],
   "source": [
    "# Plot the dataset\n",
    "def plot_dataset(X, y):\n",
    "    fig = plt.figure(figsize=(10, 10))\n",
    "    ax = fig.add_subplot(111, projection='3d')\n",
    "    for i in range(10):\n",
    "        X_class = X[y == i]\n",
    "        ax.scatter(X_class[:, 0], X_class[:, 1], X_class[:, 2],\n",
    "                   label='Class {}'.format(i))\n",
    "    ax.legend()\n",
    "    plt.show()"
   ]
  },
  {
   "cell_type": "code",
   "execution_count": null,
   "metadata": {
    "id": "6voPbFLQc7Gf"
   },
   "outputs": [],
   "source": [
    "# Keras model class\n",
    "class Classifier:\n",
    "    def __init__(self, num_layers, neurons_per_layer, activation):\n",
    "        self.num_layers = num_layers\n",
    "        self.neurons_per_layer = neurons_per_layer\n",
    "        self.activation = activation\n",
    "\n",
    "    def build_model(self, input_shape):\n",
    "        model = Sequential()\n",
    "        model.add(Dense(self.neurons_per_layer, activation=self.activation, input_shape=(input_shape,)))\n",
    "        for i in range(self.num_layers - 1):\n",
    "            model.add(Dense(self.neurons_per_layer, activation=self.activation))\n",
    "        model.add(Dense(10, activation='softmax'))\n",
    "        return model"
   ]
  },
  {
   "cell_type": "code",
   "execution_count": null,
   "metadata": {
    "id": "dO6BceP1dChH"
   },
   "outputs": [],
   "source": [
    "# Train the model\n",
    "def train(X, y, model, optimizer, epochs):\n",
    "    model.compile(loss='sparse_categorical_crossentropy', optimizer=optimizer, metrics=['accuracy'])\n",
    "    history = model.fit(X, y, epochs=epochs, verbose=0)\n",
    "    return history"
   ]
  },
  {
   "cell_type": "code",
   "execution_count": null,
   "metadata": {
    "id": "PVWNhbPkdFQe"
   },
   "outputs": [],
   "source": [
    "# Plot the training results\n",
    "def plot_history(history):\n",
    "    plt.plot(history.history['accuracy'])\n",
    "    plt.title('Model accuracy')\n",
    "    plt.ylabel('Accuracy')\n",
    "    plt.xlabel('Epoch')\n",
    "    plt.show()"
   ]
  },
  {
   "cell_type": "code",
   "execution_count": null,
   "metadata": {
    "id": "5IrcB6TSdvPi"
   },
   "outputs": [],
   "source": [
    "# Plot the classification results\n",
    "def plot_classification_results(X, y, model):\n",
    "    y_probs = model.predict(X)\n",
    "    y_pred = np.argmax(y_probs, axis=1)\n",
    "    fig = plt.figure(figsize=(10, 10))\n",
    "    ax = fig.add_subplot(111, projection='3d')\n",
    "    for i in range(10):\n",
    "        X_class = X[y == i]\n",
    "        y_pred_class = y_pred[y == i]\n",
    "        ax.scatter(X_class[:, 0], X_class[:, 1], X_class[:, 2], c=y_pred_class,\n",
    "                   label='Class {}'.format(i))\n",
    "    ax.legend()\n",
    "    plt.show()"
   ]
  },
  {
   "cell_type": "code",
   "execution_count": null,
   "metadata": {
    "id": "rbsv0hZqdJZe"
   },
   "outputs": [],
   "source": [
    "# Main function\n",
    "def experiment(num_layers=3, neurons_per_layer=32, activation='linear', lr = 0.001, epochs=100):\n",
    "    X, y = generate_dataset()\n",
    "    plot_dataset(X, y)\n",
    "\n",
    "    classifier = Classifier(num_layers, neurons_per_layer, activation)\n",
    "    model = classifier.build_model(input_shape=3)\n",
    "\n",
    "    optimizer = Adam(lr=lr)\n",
    "    history = train(X, y, model, optimizer, epochs)\n",
    "    plot_history(history)\n",
    "    print(max(history.history['accuracy']))\n",
    "    plot_classification_results(X, y, model)"
   ]
  },
  {
   "cell_type": "code",
   "execution_count": null,
   "metadata": {
    "id": "jIboVwumgCR4"
   },
   "outputs": [],
   "source": [
    "#Zad 1 i 2\n",
    "# ilosc_neuronow = [2,4,8,16,32,64]\n",
    "# warstwy = [2,3,4,5]\n",
    "# for n in ilosc_neuronow:\n",
    "#   print(\"Neurony = \", n)\n",
    "#   for w in warstwy:\n",
    "#     print(\"Warstwy = \", w)\n",
    "#     experiment(n,w)\n",
    "\n",
    "#Zad 3\n",
    "#experiment(4, 4)\n",
    "\n",
    "#Zad 4\n",
    "# trenowanie = [50, 100, 200, 400]\n",
    "# for t in trenowanie:\n",
    "#   experiment(4, 4, epochs=t)"
   ]
  },
  {
   "cell_type": "code",
   "execution_count": null,
   "metadata": {
    "colab": {
     "base_uri": "https://localhost:8080/",
     "height": 1000
    },
    "id": "YoP-q9MEisIb",
    "outputId": "e9cb478a-cc1f-459e-ae48-e1f2049d8c79"
   },
   "outputs": [],
   "source": [
    "#Zadanie do Gauss, Zbior 3 i 4\n",
    "\n",
    "n = 3\n",
    "w = 8\n",
    "\n",
    "#experiment(w,n, activation='linear', lr = 0.001)\n",
    "\n",
    "# trenowanie = [50, 100, 200, 400]\n",
    "# learning_rate = [0.001, 0.01, 1, 10]\n",
    "\n",
    "for t in trenowanie:\n",
    "  print(\"Trenowanie = \", t)\n",
    "  for l in learning_rate:\n",
    "    print(\"Learning rate = \", l)\n",
    "    start_time=time.time()\n",
    "    experiment(w,n, activation='linear', lr = l)\n",
    "    end_time=time.time()\n",
    "    print(\"Neurony = \", n)\n",
    "    print(\"Warstwy = \", w)\n",
    "    print(\"Czas wykonywania\", end_time-start_time)"
   ]
  }
 ],
 "metadata": {
  "colab": {
   "provenance": []
  },
  "kernelspec": {
   "display_name": "Python 3 (ipykernel)",
   "language": "python",
   "name": "python3"
  },
  "language_info": {
   "codemirror_mode": {
    "name": "ipython",
    "version": 3
   },
   "file_extension": ".py",
   "mimetype": "text/x-python",
   "name": "python",
   "nbconvert_exporter": "python",
   "pygments_lexer": "ipython3",
   "version": "3.9.12"
  }
 },
 "nbformat": 4,
 "nbformat_minor": 1
}
